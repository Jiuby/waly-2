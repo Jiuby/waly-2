{
 "cells": [
  {
   "cell_type": "code",
   "id": "initial_id",
   "metadata": {
    "collapsed": true,
    "ExecuteTime": {
     "end_time": "2025-05-20T04:58:27.218937Z",
     "start_time": "2025-05-20T04:48:37.708991Z"
    }
   },
   "source": [
    "import os\n",
    "import cv2\n",
    "import pickle\n",
    "import numpy as np\n",
    "import insightface\n",
    "from sklearn.preprocessing import normalize\n",
    "from tqdm import tqdm\n",
    "import time\n",
    "\n",
    "# Inicializar el modelo ArcFace (usa CPU con ctx_id=-1 o GPU con ctx_id=0)\n",
    "model = insightface.app.FaceAnalysis(allowed_modules=['detection', 'recognition'])\n",
    "model.prepare(ctx_id=0)\n",
    "\n",
    "\n",
    "# Función para cargar imágenes y extraer embeddings con barra de progreso\n",
    "def load_images_and_extract_embeddings(image_folder):\n",
    "    embeddings = []\n",
    "    labels = []\n",
    "    image_files = os.listdir(image_folder)\n",
    "\n",
    "    # Usar tqdm para mostrar barra de progreso\n",
    "    start_time = time.time()\n",
    "    for file_name in tqdm(image_files, desc=\"Extrayendo embeddings\", unit=\"imagen\"):\n",
    "        img_path = os.path.join(image_folder, file_name)\n",
    "\n",
    "        # Leer la imagen\n",
    "        img = cv2.imread(img_path)\n",
    "        if img is None:\n",
    "            continue\n",
    "\n",
    "        # Detectar y extraer embeddings faciales\n",
    "        faces = model.get(img)\n",
    "        for face in faces:\n",
    "            if face.embedding is not None:\n",
    "                embeddings.append(face.embedding)\n",
    "                labels.append(file_name.split('.')[0])  # El nombre del archivo sin extensión como etiqueta\n",
    "\n",
    "    # Mostrar el tiempo total tomado\n",
    "    elapsed_time = time.time() - start_time\n",
    "    print(f\"Proceso completado en {elapsed_time:.2f} segundos\")\n",
    "\n",
    "    return np.array(embeddings), labels\n",
    "\n",
    "\n",
    "# Función para normalizar los embeddings\n",
    "def normalize_embeddings(embeddings):\n",
    "    return normalize(embeddings)\n",
    "\n",
    "\n",
    "# Directorio de imágenes\n",
    "image_folder = 'faces'  # Cambia esto a la carpeta donde están tus imágenes\n",
    "\n",
    "# Cargar y extraer embeddings\n",
    "embeddings, labels = load_images_and_extract_embeddings(image_folder)\n",
    "\n",
    "# Normalizar embeddings\n",
    "embeddings = normalize_embeddings(embeddings)\n",
    "\n",
    "# Guardar embeddings y etiquetas en un archivo usando Pickle\n",
    "with open('embeddings.pkl', 'wb') as f:\n",
    "    pickle.dump({'embeddings': embeddings, 'labels': labels}, f)\n",
    "\n",
    "print(\"Embeddings y etiquetas guardados en 'embeddings.pkl'\")"
   ],
   "outputs": [
    {
     "name": "stderr",
     "output_type": "stream",
     "text": [
      "C:\\Users\\juane\\Documents\\ProyectosProgramacion\\Waly\\.venv\\lib\\site-packages\\onnxruntime\\capi\\onnxruntime_inference_collection.py:65: UserWarning: Specified provider 'CUDAExecutionProvider' is not in available provider names.Available providers: 'CPUExecutionProvider'\n",
      "  warnings.warn(\n"
     ]
    },
    {
     "name": "stdout",
     "output_type": "stream",
     "text": [
      "Applied providers: ['CPUExecutionProvider'], with options: {'CPUExecutionProvider': {}}\n",
      "model ignore: C:\\Users\\juane/.insightface\\models\\buffalo_l\\1k3d68.onnx landmark_3d_68\n",
      "Applied providers: ['CPUExecutionProvider'], with options: {'CPUExecutionProvider': {}}\n",
      "model ignore: C:\\Users\\juane/.insightface\\models\\buffalo_l\\2d106det.onnx landmark_2d_106\n",
      "Applied providers: ['CPUExecutionProvider'], with options: {'CPUExecutionProvider': {}}\n",
      "find model: C:\\Users\\juane/.insightface\\models\\buffalo_l\\det_10g.onnx detection [1, 3, '?', '?'] 127.5 128.0\n",
      "Applied providers: ['CPUExecutionProvider'], with options: {'CPUExecutionProvider': {}}\n",
      "model ignore: C:\\Users\\juane/.insightface\\models\\buffalo_l\\genderage.onnx genderage\n",
      "Applied providers: ['CPUExecutionProvider'], with options: {'CPUExecutionProvider': {}}\n",
      "find model: C:\\Users\\juane/.insightface\\models\\buffalo_l\\w600k_r50.onnx recognition ['None', 3, 112, 112] 127.5 127.5\n",
      "set det-size: (640, 640)\n"
     ]
    },
    {
     "name": "stderr",
     "output_type": "stream",
     "text": [
      "Extrayendo embeddings: 100%|██████████| 4531/4531 [09:48<00:00,  7.71imagen/s]"
     ]
    },
    {
     "name": "stdout",
     "output_type": "stream",
     "text": [
      "Proceso completado en 588.06 segundos\n",
      "Embeddings y etiquetas guardados en 'embeddings.pkl'\n"
     ]
    },
    {
     "name": "stderr",
     "output_type": "stream",
     "text": [
      "\n"
     ]
    }
   ],
   "execution_count": 2
  },
  {
   "metadata": {
    "ExecuteTime": {
     "end_time": "2025-05-20T03:23:40.411943Z",
     "start_time": "2025-05-20T03:23:40.408940Z"
    }
   },
   "cell_type": "code",
   "source": [
    "import onnxruntime\n",
    "print(\"✅ ONNX Runtime version:\", onnxruntime.__version__)\n"
   ],
   "id": "d2f85f6ec53ac4b3",
   "outputs": [
    {
     "name": "stdout",
     "output_type": "stream",
     "text": [
      "✅ ONNX Runtime version: 1.15.1\n"
     ]
    }
   ],
   "execution_count": 3
  }
 ],
 "metadata": {
  "kernelspec": {
   "display_name": "Python 3",
   "language": "python",
   "name": "python3"
  },
  "language_info": {
   "codemirror_mode": {
    "name": "ipython",
    "version": 2
   },
   "file_extension": ".py",
   "mimetype": "text/x-python",
   "name": "python",
   "nbconvert_exporter": "python",
   "pygments_lexer": "ipython2",
   "version": "2.7.6"
  }
 },
 "nbformat": 4,
 "nbformat_minor": 5
}
